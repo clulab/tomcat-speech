{
 "metadata": {
  "language_info": {
   "codemirror_mode": {
    "name": "ipython",
    "version": 3
   },
   "file_extension": ".py",
   "mimetype": "text/x-python",
   "name": "python",
   "nbconvert_exporter": "python",
   "pygments_lexer": "ipython3",
   "version": "3.6.8"
  },
  "orig_nbformat": 4,
  "kernelspec": {
   "name": "python3",
   "display_name": "Python 3.6.8 64-bit"
  },
  "interpreter": {
   "hash": "0fcbded41e1014d753202c03bcdc79f7f47c94b45a0964c21e7b69c7b9928594"
  }
 },
 "nbformat": 4,
 "nbformat_minor": 2,
 "cells": [
  {
   "source": [
    "## Set environment"
   ],
   "cell_type": "markdown",
   "metadata": {}
  },
  {
   "cell_type": "code",
   "execution_count": 3,
   "metadata": {},
   "outputs": [],
   "source": [
    "import os\n",
    "import sys\n",
    "sys.path.insert(0, os.path.abspath('/work/seongjinpark/tomcat-speech/speech_recognition'))"
   ]
  },
  {
   "source": [
    "## Import helper functions\n",
    "\n",
    "* generate_dict: create csv file that contains filename and transcription\n",
    "* load_train_test: split the data into train and test data"
   ],
   "cell_type": "markdown",
   "metadata": {}
  },
  {
   "cell_type": "code",
   "execution_count": 4,
   "metadata": {},
   "outputs": [],
   "source": [
    "from helper.preprocessing import generate_dict\n",
    "from helper.wav2vec_helper import load_train_test"
   ]
  },
  {
   "source": [
    "## Create base data dictionary\n",
    "* audio_path: the directory where wav files are stored.\n",
    "* train_ and test_text: tsv file that contains file full name (with extension) and transcription. \n",
    "* train_ and test_csv: output csv files which will be created\n",
    "* chalearn_data: DatasetDict that contains two dataset (train and test)"
   ],
   "cell_type": "markdown",
   "metadata": {}
  },
  {
   "cell_type": "code",
   "execution_count": 5,
   "metadata": {},
   "outputs": [
    {
     "output_type": "stream",
     "name": "stderr",
     "text": [
      "Using custom data configuration default-6b8749aaf01fcd47\n",
      "Downloading and preparing dataset csv/default (download: Unknown size, generated: Unknown size, post-processed: Unknown size, total: Unknown size) to /work/seongjinpark/.cache/huggingface/datasets/csv/default-6b8749aaf01fcd47/0.0.0/2dc6629a9ff6b5697d82c25b73731dd440507a69cbce8b425db50b751e8fcfd0...\n"
     ]
    },
    {
     "output_type": "display_data",
     "data": {
      "text/plain": "HBox(children=(FloatProgress(value=1.0, bar_style='info', max=1.0), HTML(value='')))",
      "application/vnd.jupyter.widget-view+json": {
       "version_major": 2,
       "version_minor": 0,
       "model_id": "7600c474d0a94149822a00fdd7b3a7c1"
      }
     },
     "metadata": {}
    },
    {
     "output_type": "display_data",
     "data": {
      "text/plain": "HBox(children=(FloatProgress(value=1.0, bar_style='info', max=1.0), HTML(value='')))",
      "application/vnd.jupyter.widget-view+json": {
       "version_major": 2,
       "version_minor": 0,
       "model_id": "b989e9b9a0d74e1eb546ca1ebef4240e"
      }
     },
     "metadata": {}
    },
    {
     "output_type": "stream",
     "name": "stdout",
     "text": [
      "Dataset csv downloaded and prepared to /work/seongjinpark/.cache/huggingface/datasets/csv/default-6b8749aaf01fcd47/0.0.0/2dc6629a9ff6b5697d82c25b73731dd440507a69cbce8b425db50b751e8fcfd0. Subsequent calls will reuse this data.\nDatasetDict({\n    train: Dataset({\n        features: ['file', 'text'],\n        num_rows: 540\n    })\n    test: Dataset({\n        features: ['file', 'text'],\n        num_rows: 138\n    })\n})\n"
     ]
    }
   ],
   "source": [
    "from ipywidgets import FloatProgress\n",
    "from datasets import load_dataset, load_metric\n",
    "\n",
    "audio_path = \"/data/seongjinpark/MUStARD/utterances_final_16\"\n",
    "\n",
    "train_text = \"/work/seongjinpark/tomcat-speech/speech_recognition/data/mustard/train.tsv\"\n",
    "test_text = \"/work/seongjinpark/tomcat-speech/speech_recognition/data/mustard/test.tsv\"\n",
    "\n",
    "train_csv = \"/work/seongjinpark/tomcat-speech/speech_recognition/data/mustard/train.csv\"\n",
    "test_csv = \"/work/seongjinpark/tomcat-speech/speech_recognition/data/mustard/dev.csv\"\n",
    "\n",
    "generate_dict(audio_path, train_text, train_csv, header=False)\n",
    "generate_dict(audio_path, test_text, test_csv, header=False)\n",
    "\n",
    "chalearn_data = load_train_test(train_csv, test_csv)\n",
    "print(chalearn_data)"
   ]
  }
 ]
}